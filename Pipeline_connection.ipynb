{
 "cells": [
  {
   "cell_type": "markdown",
   "id": "c9eec273",
   "metadata": {},
   "source": [
    "## MLOps 구축하기"
   ]
  },
  {
   "cell_type": "code",
   "execution_count": 1,
   "id": "28e3dba7",
   "metadata": {},
   "outputs": [],
   "source": [
    "import boto3\n",
    "import json\n",
    "from sagemaker import get_execution_role\n",
    "from time import strftime\n",
    "import calendar\n",
    "import time"
   ]
  },
  {
   "cell_type": "code",
   "execution_count": 2,
   "id": "b8f4bfa8",
   "metadata": {},
   "outputs": [],
   "source": [
    "iam_client = boto3.client('iam')\n",
    "role=get_execution_role()\n",
    "base_role_name=role.split('/')[-1]"
   ]
  },
  {
   "cell_type": "code",
   "execution_count": 3,
   "id": "d5db64e6",
   "metadata": {},
   "outputs": [],
   "source": [
    "sts_client = boto3.client(\"sts\")\n",
    "account_id = sts_client.get_caller_identity()['Account']"
   ]
  },
  {
   "cell_type": "markdown",
   "id": "3394b5fe",
   "metadata": {},
   "source": [
    "### 2. MLOps에서 활용할 Policy 설정하기\n",
    "\n",
    "해당 HOL에서 구현할 아키텍처에 필요한 managed policy를 아래와 같이 정의합니다. Role을 별도 생성하셔도 되지만 HOL의 편의성을 위해 SageMaker Notebook/Studio와 동일한 Role에 policy를 추가하여 계속 활용합니다."
   ]
  },
  {
   "cell_type": "code",
   "execution_count": 4,
   "id": "bbbfe6f7",
   "metadata": {},
   "outputs": [
    {
     "data": {
      "text/plain": [
       "{'ResponseMetadata': {'RequestId': '4f0e5a9f-2179-4b34-b36c-3263a0a857a7',\n",
       "  'HTTPStatusCode': 200,\n",
       "  'HTTPHeaders': {'x-amzn-requestid': '4f0e5a9f-2179-4b34-b36c-3263a0a857a7',\n",
       "   'content-type': 'text/xml',\n",
       "   'content-length': '212',\n",
       "   'date': 'Thu, 30 Dec 2021 13:20:54 GMT'},\n",
       "  'RetryAttempts': 0}}"
      ]
     },
     "execution_count": 4,
     "metadata": {},
     "output_type": "execute_result"
    }
   ],
   "source": [
    "iam_client.attach_role_policy(\n",
    "    RoleName=base_role_name,\n",
    "    PolicyArn='arn:aws:iam::aws:policy/AmazonEventBridgeFullAccess'\n",
    ")\n",
    "iam_client.attach_role_policy(\n",
    "    RoleName=base_role_name,\n",
    "    PolicyArn='arn:aws:iam::aws:policy/AWSLambda_FullAccess'\n",
    ")"
   ]
  },
  {
   "cell_type": "code",
   "execution_count": 28,
   "id": "7ea83302",
   "metadata": {},
   "outputs": [],
   "source": [
    "user_name = 'napkin2' ## 사용자 아이디\n",
    "codecommit_cred = 'codecommit-cred'"
   ]
  },
  {
   "cell_type": "code",
   "execution_count": 29,
   "id": "fb0a8e16",
   "metadata": {},
   "outputs": [
    {
     "name": "stdout",
     "output_type": "stream",
     "text": [
      "ServiceUserName : napkin2-at-687314952804 \n",
      "ServicePassword : p3moUgUxxseAXd+n617TDzXFcRbrlcy3qB0GNhAnT8U=\n"
     ]
    }
   ],
   "source": [
    "try:\n",
    "    response = iam_client.list_service_specific_credentials(\n",
    "        UserName=user_name,\n",
    "        ServiceName='codecommit.amazonaws.com'\n",
    "    )\n",
    "    if len(response['ServiceSpecificCredentials']) > 0:\n",
    "        response = iam_client.delete_service_specific_credential(\n",
    "            UserName=user_name,\n",
    "            ServiceSpecificCredentialId=response['ServiceSpecificCredentials'][-1]['ServiceSpecificCredentialId']\n",
    "        )\n",
    "except:\n",
    "    print(\"Create new codecommit crendentials\")\n",
    "    pass\n",
    "finally:\n",
    "    response = iam_client.create_service_specific_credential(\n",
    "        UserName='napkin2',\n",
    "        ServiceName='codecommit.amazonaws.com'\n",
    "    )\n",
    "    ServiceUserName = response['ServiceSpecificCredential']['ServiceUserName']\n",
    "    ServicePassword = response['ServiceSpecificCredential']['ServicePassword']\n",
    "print(f\"ServiceUserName : {ServiceUserName} \\nServicePassword : {ServicePassword}\")"
   ]
  },
  {
   "cell_type": "code",
   "execution_count": 30,
   "id": "ef59908d",
   "metadata": {},
   "outputs": [],
   "source": [
    "sec_client = boto3.client('secretsmanager')"
   ]
  },
  {
   "cell_type": "code",
   "execution_count": 31,
   "id": "4e3dddf9",
   "metadata": {},
   "outputs": [],
   "source": [
    "secret_string = json.dumps({\n",
    "      \"username\": ServiceUserName,\n",
    "      \"password\": ServicePassword\n",
    "    })"
   ]
  },
  {
   "cell_type": "code",
   "execution_count": 33,
   "id": "bd24ee88",
   "metadata": {},
   "outputs": [],
   "source": [
    "sec_list = sec_client.list_secrets()['SecretList']\n",
    "\n",
    "if len(sec_list) == 0:\n",
    "    sec_response = sec_client.create_secret(\n",
    "        Name=codecommit_cred,\n",
    "        Description='This credential uses git_config for SageMaker in Lambda',\n",
    "        SecretString=secret_string,\n",
    "        Tags=[\n",
    "            {\n",
    "                'Key': 'Name',\n",
    "                'Value': 'codecommit_credentials'\n",
    "            },\n",
    "        ]\n",
    "    )\n",
    "else:\n",
    "    sec_response = sec_client.update_secret(\n",
    "        SecretId=sec_list[0]['ARN'],\n",
    "        SecretString=secret_string\n",
    "    )"
   ]
  },
  {
   "cell_type": "code",
   "execution_count": 36,
   "id": "a636e71f",
   "metadata": {},
   "outputs": [],
   "source": [
    "sec_arn = sec_response['ARN']"
   ]
  },
  {
   "cell_type": "markdown",
   "id": "0fa78b83",
   "metadata": {},
   "source": [
    "### 3. SageMaker Studio의 설정값에서 model_package_group_name 생성/가져오기\n",
    "이 작업을 진행하기 이전에 SageMaker Studio에서 Project 생성이 필요합니다."
   ]
  },
  {
   "cell_type": "code",
   "execution_count": 37,
   "id": "0c957c18",
   "metadata": {},
   "outputs": [
    {
     "data": {
      "text/plain": [
       "'yolov5-detect-1640243744'"
      ]
     },
     "execution_count": 37,
     "metadata": {},
     "output_type": "execute_result"
    }
   ],
   "source": [
    "sm_client = boto3.client(\"sagemaker\")\n",
    "\n",
    "model_package_groups_list = sm_client.list_model_package_groups(\n",
    "        SortBy='CreationTime',\n",
    "        SortOrder='Ascending')\n",
    "\n",
    "if len(model_package_groups_list['ModelPackageGroupSummaryList']) == 0:\n",
    "    print(\"Creating a model package group for a new model\")\n",
    "\n",
    "    import time\n",
    "    model_package_group_name = \"yolov5-detect-\" + str(round(time.time()))\n",
    "    model_package_group_input_dict = {\n",
    "     \"ModelPackageGroupName\" : model_package_group_name,\n",
    "     \"ModelPackageGroupDescription\" : \"Sample model package group\"\n",
    "    }\n",
    "\n",
    "    create_model_pacakge_group_response = sm_client.create_model_package_group(**model_package_group_input_dict)\n",
    "    print('ModelPackageGroup Arn : {}'.format(create_model_pacakge_group_response['ModelPackageGroupArn']))\n",
    "else:    \n",
    "    model_package_group_name= model_package_groups_list['ModelPackageGroupSummaryList'][0]['ModelPackageGroupName']\n",
    "model_package_group_name"
   ]
  },
  {
   "cell_type": "code",
   "execution_count": 38,
   "id": "436aa787",
   "metadata": {},
   "outputs": [],
   "source": [
    "# sm_client.delete_model_package_group(ModelPackageGroupName=model_package_group_name)"
   ]
  },
  {
   "cell_type": "code",
   "execution_count": 39,
   "id": "30be9701",
   "metadata": {},
   "outputs": [
    {
     "data": {
      "text/plain": [
       "{'ModelPackageSummaryList': [{'ModelPackageGroupName': 'yolov5-detect-1640243744',\n",
       "   'ModelPackageVersion': 13,\n",
       "   'ModelPackageArn': 'arn:aws:sagemaker:ap-northeast-2:687314952804:model-package/yolov5-detect-1640243744/13',\n",
       "   'ModelPackageDescription': 'Model to detect 3 different types of irises (Setosa, Versicolour, and Virginica)',\n",
       "   'CreationTime': datetime.datetime(2021, 12, 30, 12, 1, 43, 648000, tzinfo=tzlocal()),\n",
       "   'ModelPackageStatus': 'Completed',\n",
       "   'ModelApprovalStatus': 'PendingManualApproval'},\n",
       "  {'ModelPackageGroupName': 'yolov5-detect-1640243744',\n",
       "   'ModelPackageVersion': 12,\n",
       "   'ModelPackageArn': 'arn:aws:sagemaker:ap-northeast-2:687314952804:model-package/yolov5-detect-1640243744/12',\n",
       "   'ModelPackageDescription': 'Model to detect 3 different types of irises (Setosa, Versicolour, and Virginica)',\n",
       "   'CreationTime': datetime.datetime(2021, 12, 30, 11, 45, 52, 283000, tzinfo=tzlocal()),\n",
       "   'ModelPackageStatus': 'Completed',\n",
       "   'ModelApprovalStatus': 'Approved'},\n",
       "  {'ModelPackageGroupName': 'yolov5-detect-1640243744',\n",
       "   'ModelPackageVersion': 11,\n",
       "   'ModelPackageArn': 'arn:aws:sagemaker:ap-northeast-2:687314952804:model-package/yolov5-detect-1640243744/11',\n",
       "   'ModelPackageDescription': 'Model to detect 3 different types of irises (Setosa, Versicolour, and Virginica)',\n",
       "   'CreationTime': datetime.datetime(2021, 12, 30, 11, 31, 3, 540000, tzinfo=tzlocal()),\n",
       "   'ModelPackageStatus': 'Completed',\n",
       "   'ModelApprovalStatus': 'Approved'},\n",
       "  {'ModelPackageGroupName': 'yolov5-detect-1640243744',\n",
       "   'ModelPackageVersion': 10,\n",
       "   'ModelPackageArn': 'arn:aws:sagemaker:ap-northeast-2:687314952804:model-package/yolov5-detect-1640243744/10',\n",
       "   'ModelPackageDescription': 'Model to detect 3 different types of irises (Setosa, Versicolour, and Virginica)',\n",
       "   'CreationTime': datetime.datetime(2021, 12, 30, 11, 6, 47, 986000, tzinfo=tzlocal()),\n",
       "   'ModelPackageStatus': 'Completed',\n",
       "   'ModelApprovalStatus': 'Approved'},\n",
       "  {'ModelPackageGroupName': 'yolov5-detect-1640243744',\n",
       "   'ModelPackageVersion': 9,\n",
       "   'ModelPackageArn': 'arn:aws:sagemaker:ap-northeast-2:687314952804:model-package/yolov5-detect-1640243744/9',\n",
       "   'ModelPackageDescription': 'Model to detect 3 different types of irises (Setosa, Versicolour, and Virginica)',\n",
       "   'CreationTime': datetime.datetime(2021, 12, 24, 3, 16, 12, 943000, tzinfo=tzlocal()),\n",
       "   'ModelPackageStatus': 'Completed',\n",
       "   'ModelApprovalStatus': 'Approved'},\n",
       "  {'ModelPackageGroupName': 'yolov5-detect-1640243744',\n",
       "   'ModelPackageVersion': 8,\n",
       "   'ModelPackageArn': 'arn:aws:sagemaker:ap-northeast-2:687314952804:model-package/yolov5-detect-1640243744/8',\n",
       "   'ModelPackageDescription': 'Model to detect 3 different types of irises (Setosa, Versicolour, and Virginica)',\n",
       "   'CreationTime': datetime.datetime(2021, 12, 24, 2, 51, 32, 552000, tzinfo=tzlocal()),\n",
       "   'ModelPackageStatus': 'Completed',\n",
       "   'ModelApprovalStatus': 'Approved'},\n",
       "  {'ModelPackageGroupName': 'yolov5-detect-1640243744',\n",
       "   'ModelPackageVersion': 7,\n",
       "   'ModelPackageArn': 'arn:aws:sagemaker:ap-northeast-2:687314952804:model-package/yolov5-detect-1640243744/7',\n",
       "   'ModelPackageDescription': 'Model to detect 3 different types of irises (Setosa, Versicolour, and Virginica)',\n",
       "   'CreationTime': datetime.datetime(2021, 12, 24, 2, 33, 16, 516000, tzinfo=tzlocal()),\n",
       "   'ModelPackageStatus': 'Completed',\n",
       "   'ModelApprovalStatus': 'Approved'},\n",
       "  {'ModelPackageGroupName': 'yolov5-detect-1640243744',\n",
       "   'ModelPackageVersion': 6,\n",
       "   'ModelPackageArn': 'arn:aws:sagemaker:ap-northeast-2:687314952804:model-package/yolov5-detect-1640243744/6',\n",
       "   'ModelPackageDescription': 'Model to detect 3 different types of irises (Setosa, Versicolour, and Virginica)',\n",
       "   'CreationTime': datetime.datetime(2021, 12, 24, 1, 37, 30, 855000, tzinfo=tzlocal()),\n",
       "   'ModelPackageStatus': 'Completed',\n",
       "   'ModelApprovalStatus': 'Approved'},\n",
       "  {'ModelPackageGroupName': 'yolov5-detect-1640243744',\n",
       "   'ModelPackageVersion': 5,\n",
       "   'ModelPackageArn': 'arn:aws:sagemaker:ap-northeast-2:687314952804:model-package/yolov5-detect-1640243744/5',\n",
       "   'ModelPackageDescription': 'Model to detect 3 different types of irises (Setosa, Versicolour, and Virginica)',\n",
       "   'CreationTime': datetime.datetime(2021, 12, 23, 17, 17, 7, 373000, tzinfo=tzlocal()),\n",
       "   'ModelPackageStatus': 'Completed',\n",
       "   'ModelApprovalStatus': 'Approved'},\n",
       "  {'ModelPackageGroupName': 'yolov5-detect-1640243744',\n",
       "   'ModelPackageVersion': 4,\n",
       "   'ModelPackageArn': 'arn:aws:sagemaker:ap-northeast-2:687314952804:model-package/yolov5-detect-1640243744/4',\n",
       "   'ModelPackageDescription': 'Model to detect 3 different types of irises (Setosa, Versicolour, and Virginica)',\n",
       "   'CreationTime': datetime.datetime(2021, 12, 23, 16, 43, 23, 653000, tzinfo=tzlocal()),\n",
       "   'ModelPackageStatus': 'Completed',\n",
       "   'ModelApprovalStatus': 'Approved'},\n",
       "  {'ModelPackageGroupName': 'yolov5-detect-1640243744',\n",
       "   'ModelPackageVersion': 3,\n",
       "   'ModelPackageArn': 'arn:aws:sagemaker:ap-northeast-2:687314952804:model-package/yolov5-detect-1640243744/3',\n",
       "   'ModelPackageDescription': 'Model to detect 3 different types of irises (Setosa, Versicolour, and Virginica)',\n",
       "   'CreationTime': datetime.datetime(2021, 12, 23, 16, 37, 28, 992000, tzinfo=tzlocal()),\n",
       "   'ModelPackageStatus': 'Completed',\n",
       "   'ModelApprovalStatus': 'Approved'},\n",
       "  {'ModelPackageGroupName': 'yolov5-detect-1640243744',\n",
       "   'ModelPackageVersion': 2,\n",
       "   'ModelPackageArn': 'arn:aws:sagemaker:ap-northeast-2:687314952804:model-package/yolov5-detect-1640243744/2',\n",
       "   'ModelPackageDescription': 'Model to detect 3 different types of irises (Setosa, Versicolour, and Virginica)',\n",
       "   'CreationTime': datetime.datetime(2021, 12, 23, 16, 31, 14, 355000, tzinfo=tzlocal()),\n",
       "   'ModelPackageStatus': 'Completed',\n",
       "   'ModelApprovalStatus': 'Approved'},\n",
       "  {'ModelPackageGroupName': 'yolov5-detect-1640243744',\n",
       "   'ModelPackageVersion': 1,\n",
       "   'ModelPackageArn': 'arn:aws:sagemaker:ap-northeast-2:687314952804:model-package/yolov5-detect-1640243744/1',\n",
       "   'ModelPackageDescription': 'Model to detect 3 different types of irises (Setosa, Versicolour, and Virginica)',\n",
       "   'CreationTime': datetime.datetime(2021, 12, 23, 16, 22, 51, 361000, tzinfo=tzlocal()),\n",
       "   'ModelPackageStatus': 'Completed',\n",
       "   'ModelApprovalStatus': 'Approved'}],\n",
       " 'ResponseMetadata': {'RequestId': 'cf0eeb8b-2291-4644-9743-79899a533971',\n",
       "  'HTTPStatusCode': 200,\n",
       "  'HTTPHeaders': {'x-amzn-requestid': 'cf0eeb8b-2291-4644-9743-79899a533971',\n",
       "   'content-type': 'application/x-amz-json-1.1',\n",
       "   'content-length': '5132',\n",
       "   'date': 'Thu, 30 Dec 2021 13:32:40 GMT'},\n",
       "  'RetryAttempts': 0}}"
      ]
     },
     "execution_count": 39,
     "metadata": {},
     "output_type": "execute_result"
    }
   ],
   "source": [
    "sm_client.list_model_packages(ModelPackageGroupName=model_package_group_name)"
   ]
  },
  {
   "cell_type": "markdown",
   "id": "48936182",
   "metadata": {},
   "source": [
    "### 4. Create Amazon EventBridge Rule\n",
    "\n",
    "model registry에서 모델이 **Approved**되었을 때 이벤트 트리거를 만들기 위한 설정을 Amazon EventBridge Rule을 이용하여 설정합니다."
   ]
  },
  {
   "cell_type": "code",
   "execution_count": 40,
   "id": "567545f9",
   "metadata": {},
   "outputs": [],
   "source": [
    "event_client = boto3.client('events')"
   ]
  },
  {
   "cell_type": "code",
   "execution_count": 41,
   "id": "b259e75a",
   "metadata": {},
   "outputs": [],
   "source": [
    "eventpattern = json.dumps(\n",
    "    {\n",
    "      \"source\": [\"aws.sagemaker\"],\n",
    "      \"detail-type\": [\"SageMaker Model Package State Change\"],\n",
    "      \"detail\": {\n",
    "        \"ModelPackageGroupName\": [f\"{model_package_group_name}\"],\n",
    "        \"ModelApprovalStatus\": [\"Approved\"]\n",
    "      }\n",
    "    }\n",
    ")"
   ]
  },
  {
   "cell_type": "code",
   "execution_count": 42,
   "id": "e3f7b3af",
   "metadata": {},
   "outputs": [],
   "source": [
    "rule_name = 'yolov5_model_package_state'\n",
    "event_rule = event_client.put_rule(\n",
    "    Name=rule_name,\n",
    "    EventPattern=eventpattern,\n",
    "    State='ENABLED',\n",
    "    Description='This is after the approval update for the yolov5 model',\n",
    ")"
   ]
  },
  {
   "cell_type": "markdown",
   "id": "79d0e17b",
   "metadata": {},
   "source": [
    "### 5. Lambda function 생성\n",
    "\n",
    "EventBridge 에서 Rule 만족하는 이벤트가 발생했을 때 실행되는 Lambda Function을 정의합니다. Lambda Function 은 테스트 데이터를 예측하는 Batch transform job을 수행하게 됩니다.\n"
   ]
  },
  {
   "cell_type": "code",
   "execution_count": 109,
   "id": "21bf1b08",
   "metadata": {},
   "outputs": [],
   "source": [
    "%store -r"
   ]
  },
  {
   "cell_type": "code",
   "execution_count": 110,
   "id": "b9775f60",
   "metadata": {},
   "outputs": [],
   "source": [
    "lambda_client = boto3.client('lambda')"
   ]
  },
  {
   "cell_type": "code",
   "execution_count": 111,
   "id": "6453639d",
   "metadata": {},
   "outputs": [],
   "source": [
    "lambda_trust_policy=json.dumps({\n",
    "  \"Version\": \"2012-10-17\",\n",
    "  \"Statement\": [\n",
    "    {\n",
    "      \"Effect\": \"Allow\",\n",
    "      \"Principal\": {\n",
    "        \"Service\": \"lambda.amazonaws.com\"\n",
    "      },\n",
    "      \"Action\": \"sts:AssumeRole\"\n",
    "    }\n",
    "  ]\n",
    "})"
   ]
  },
  {
   "cell_type": "code",
   "execution_count": 112,
   "id": "f3b97178",
   "metadata": {},
   "outputs": [
    {
     "data": {
      "text/plain": [
       "'lambda-assume-role_1230-17291640885344'"
      ]
     },
     "execution_count": 112,
     "metadata": {},
     "output_type": "execute_result"
    }
   ],
   "source": [
    "role_name='lambda-assume-role_'+ strftime(\"%m%d-%H%M%s\")\n",
    "try:\n",
    "    for role_list in iam_client.list_roles()['Roles']:\n",
    "        pre_role_name = role_list['RoleName']\n",
    "        if pre_role_name.split(\"_\")[0] in ['lambda-assume-role']:\n",
    "            iam_client.detach_role_policy(\n",
    "                RoleName=pre_role_name,\n",
    "                PolicyArn='arn:aws:iam::aws:policy/service-role/AWSLambdaBasicExecutionRole'\n",
    "            )\n",
    "            iam_client.detach_role_policy(\n",
    "                RoleName=pre_role_name,\n",
    "                PolicyArn='arn:aws:iam::aws:policy/AmazonSageMakerFullAccess'\n",
    "            )\n",
    "            iam_client.delete_role(RoleName=pre_role_name)\n",
    "except:\n",
    "    pass\n",
    "finally:\n",
    "    lambda_role = iam_client.create_role(\n",
    "        RoleName=role_name,\n",
    "        AssumeRolePolicyDocument=lambda_trust_policy\n",
    "    )\n",
    "    iam_client.attach_role_policy(\n",
    "        RoleName=role_name,\n",
    "        PolicyArn='arn:aws:iam::aws:policy/service-role/AWSLambdaBasicExecutionRole'\n",
    "    )\n",
    "    iam_client.attach_role_policy(\n",
    "        RoleName=role_name,\n",
    "        PolicyArn='arn:aws:iam::aws:policy/AmazonSageMakerFullAccess'\n",
    "    )\n",
    "    iam_client.attach_role_policy(\n",
    "        RoleName=role_name,\n",
    "        PolicyArn='arn:aws:iam::aws:policy/SecretsManagerReadWrite'\n",
    "    )\n",
    "    time.sleep(10)\n",
    "role_name"
   ]
  },
  {
   "cell_type": "code",
   "execution_count": 113,
   "id": "40a433e9",
   "metadata": {},
   "outputs": [],
   "source": [
    "# The name of our algorithm\n",
    "algo_name = \"yolov5-batch-transform\"\n",
    "lambda_path = \"./sm_lambda_preprocessing\""
   ]
  },
  {
   "cell_type": "code",
   "execution_count": 114,
   "id": "caafd832",
   "metadata": {},
   "outputs": [],
   "source": [
    "# Get the region defined in the current configuration (default to us-west-2 if none defined)\n",
    "my_session = boto3.session.Session()\n",
    "region = my_session.region_name\n",
    "\n",
    "repo_name=f\"{account_id}.dkr.ecr.{region}.amazonaws.com/{algo_name}:latest\""
   ]
  },
  {
   "cell_type": "code",
   "execution_count": 129,
   "id": "cfc72e55",
   "metadata": {},
   "outputs": [],
   "source": [
    "%%capture\n",
    "!sh $lambda_path/build_and_push.sh $account_id $region $algo_name"
   ]
  },
  {
   "cell_type": "code",
   "execution_count": 123,
   "id": "47b4313a",
   "metadata": {},
   "outputs": [],
   "source": [
    "lambda_name='yolov5-batch_transform'\n",
    "try:\n",
    "    lambda_client.delete_function(FunctionName=lambda_name)\n",
    "except:\n",
    "    pass\n",
    "finally:\n",
    "    lambda_response = lambda_client.create_function(\n",
    "        FunctionName=lambda_name,\n",
    "        Role=lambda_role['Role']['Arn'],\n",
    "        Code={\n",
    "            'ImageUri': repo_name\n",
    "        },\n",
    "        PackageType='Image',\n",
    "        Description='Create the latest version-based Informer model',\n",
    "        Timeout=600,\n",
    "        MemorySize=512,\n",
    "        Environment={\n",
    "          'Variables': {\n",
    "              \"sec_arn\" : sec_arn\n",
    "          }\n",
    "      }\n",
    "    )"
   ]
  },
  {
   "cell_type": "code",
   "execution_count": 130,
   "id": "54e6454c",
   "metadata": {},
   "outputs": [],
   "source": [
    "# response = lambda_client.update_function_code(\n",
    "#     FunctionName=lambda_name,\n",
    "#     ImageUri=repo_name\n",
    "# )"
   ]
  },
  {
   "cell_type": "code",
   "execution_count": 125,
   "id": "321bafa4",
   "metadata": {},
   "outputs": [],
   "source": [
    "lambda_permission_response = lambda_client.add_permission(\n",
    "    FunctionName=lambda_name,\n",
    "    StatementId='InvokeLambdaFunction',\n",
    "    Action='lambda:InvokeFunction',\n",
    "    Principal=\"events.amazonaws.com\",\n",
    "    SourceArn=event_rule['RuleArn'],\n",
    ")"
   ]
  },
  {
   "cell_type": "markdown",
   "id": "ee2dbc30",
   "metadata": {},
   "source": [
    "Amazon EventBridge에 위에서 생성한 Lambda function을 타켓으로 설정합니다."
   ]
  },
  {
   "cell_type": "code",
   "execution_count": 126,
   "id": "faf36e9f",
   "metadata": {},
   "outputs": [
    {
     "data": {
      "text/plain": [
       "{'FailedEntryCount': 0,\n",
       " 'FailedEntries': [],\n",
       " 'ResponseMetadata': {'RequestId': 'a05cfe84-687e-46f4-8190-ebb8cfdbffe3',\n",
       "  'HTTPStatusCode': 200,\n",
       "  'HTTPHeaders': {'x-amzn-requestid': 'a05cfe84-687e-46f4-8190-ebb8cfdbffe3',\n",
       "   'content-type': 'application/x-amz-json-1.1',\n",
       "   'content-length': '41',\n",
       "   'date': 'Thu, 30 Dec 2021 17:35:28 GMT'},\n",
       "  'RetryAttempts': 0}}"
      ]
     },
     "execution_count": 126,
     "metadata": {},
     "output_type": "execute_result"
    }
   ],
   "source": [
    "event_client.put_targets(\n",
    "    Rule=rule_name,\n",
    "    Targets=[\n",
    "        {\n",
    "            'Id': 'Target0',\n",
    "            'Arn': lambda_response['FunctionArn']\n",
    "        }\n",
    "    ]\n",
    ")"
   ]
  },
  {
   "cell_type": "code",
   "execution_count": null,
   "id": "14a53d92",
   "metadata": {},
   "outputs": [],
   "source": []
  },
  {
   "cell_type": "code",
   "execution_count": null,
   "id": "cb263dd4",
   "metadata": {},
   "outputs": [],
   "source": []
  },
  {
   "cell_type": "code",
   "execution_count": null,
   "id": "2f16b246",
   "metadata": {},
   "outputs": [],
   "source": []
  },
  {
   "cell_type": "markdown",
   "id": "562c6722",
   "metadata": {},
   "source": [
    "## TEST - Register a Model Version"
   ]
  },
  {
   "cell_type": "code",
   "execution_count": null,
   "id": "15b4ebf1",
   "metadata": {},
   "outputs": [],
   "source": [
    "model_package_group_name"
   ]
  },
  {
   "cell_type": "code",
   "execution_count": null,
   "id": "59c0c54e",
   "metadata": {},
   "outputs": [],
   "source": [
    "model_package_group_name='yolov5-detect-1640243744'\n",
    "\n",
    "modelpackage_inference_specification =  {\n",
    "    \"InferenceSpecification\": {\n",
    "      \"Containers\": [\n",
    "         {\n",
    "            \"Image\": '687314952804.dkr.ecr.ap-northeast-2.amazonaws.com/yolov5:1.10.0-gpu-py38-inf',\n",
    "         }\n",
    "      ],\n",
    "      \"SupportedContentTypes\": [ \"application/x-image\" ],\n",
    "      \"SupportedResponseMIMETypes\": [ \"application/x-image\" ],\n",
    "   }\n",
    " }\n",
    "# Specify the model source\n",
    "model_url = f\"{artifacts_dir}model.tar.gz\"\n",
    "\n",
    "# Specify the model data\n",
    "modelpackage_inference_specification[\"InferenceSpecification\"][\"Containers\"][0][\"ModelDataUrl\"]=model_url\n",
    "\n",
    "create_model_package_input_dict = {\n",
    "    \"ModelPackageGroupName\" : model_package_group_name,\n",
    "    \"ModelPackageDescription\" : \"Model to detect 3 different types of irises (Setosa, Versicolour, and Virginica)\",\n",
    "    \"ModelApprovalStatus\" : \"PendingManualApproval\"\n",
    "}\n",
    "create_model_package_input_dict.update(modelpackage_inference_specification)\n",
    "\n",
    "modelpackage_inference_specification[\"InferenceSpecification\"][\"Containers\"][0]\n",
    "\n",
    "create_mode_package_response = sm_client.create_model_package(**create_model_package_input_dict)\n",
    "model_package_arn = create_mode_package_response[\"ModelPackageArn\"]\n",
    "print('ModelPackage Version ARN : {}'.format(model_package_arn))"
   ]
  },
  {
   "cell_type": "code",
   "execution_count": null,
   "id": "927fa12f",
   "metadata": {},
   "outputs": [],
   "source": []
  },
  {
   "cell_type": "code",
   "execution_count": 61,
   "id": "d55e1c0a",
   "metadata": {},
   "outputs": [],
   "source": [
    "import os"
   ]
  },
  {
   "cell_type": "code",
   "execution_count": 80,
   "id": "974a6e5e",
   "metadata": {},
   "outputs": [],
   "source": [
    "w='./yolo_v5/model/test/model.tar.gz'"
   ]
  },
  {
   "cell_type": "code",
   "execution_count": 81,
   "id": "eae6c043",
   "metadata": {},
   "outputs": [
    {
     "name": "stdout",
     "output_type": "stream",
     "text": [
      "AAA\n"
     ]
    }
   ],
   "source": [
    "if w.endswith('.tar.gz'):\n",
    "    print(\"AAA\")"
   ]
  },
  {
   "cell_type": "code",
   "execution_count": 76,
   "id": "19a03f51",
   "metadata": {},
   "outputs": [
    {
     "data": {
      "text/plain": [
       "'./yolo_v5/model/test/model.tar.gz'"
      ]
     },
     "execution_count": 76,
     "metadata": {},
     "output_type": "execute_result"
    }
   ],
   "source": [
    "w"
   ]
  },
  {
   "cell_type": "code",
   "execution_count": 78,
   "id": "42e1717e",
   "metadata": {},
   "outputs": [],
   "source": [
    "import tarfile\n",
    "ap = tarfile.open(w)\n",
    "ap.extractall(\"./yolo_v5/model/test/\")\n",
    "ap.close()"
   ]
  },
  {
   "cell_type": "code",
   "execution_count": 71,
   "id": "994bd4d4",
   "metadata": {},
   "outputs": [
    {
     "name": "stdout",
     "output_type": "stream",
     "text": [
      " **************** dest : ['./yolo_v5/model/models', './yolo_v5/model/test', './yolo_v5/model/exp']\n"
     ]
    }
   ],
   "source": [
    "if os.path.isdir(w):\n",
    "    w = os.path.join(w, \"model.tar.gz\")\n",
    "    import tarfile\n",
    "    ap = tarfile.open(w)\n",
    "    ap.extractall(\"/opt/ml/processing/weights/\")\n",
    "    ap.close()\n",
    "    weights = \"/opt/ml/processing/weights/model/exp/weights/best.pt\"\n",
    "import glob\n",
    "dest = glob.glob(\"./yolo_v5/model/*\")\n",
    "print(f\" **************** dest : {dest}\")"
   ]
  }
 ],
 "metadata": {
  "kernelspec": {
   "display_name": "conda_python3",
   "language": "python",
   "name": "conda_python3"
  },
  "language_info": {
   "codemirror_mode": {
    "name": "ipython",
    "version": 3
   },
   "file_extension": ".py",
   "mimetype": "text/x-python",
   "name": "python",
   "nbconvert_exporter": "python",
   "pygments_lexer": "ipython3",
   "version": "3.6.13"
  }
 },
 "nbformat": 4,
 "nbformat_minor": 5
}
